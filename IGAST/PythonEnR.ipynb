{
 "cells": [
  {
   "cell_type": "markdown",
   "metadata": {},
   "source": [
    "# Python en R"
   ]
  },
  {
   "cell_type": "markdown",
   "metadata": {},
   "source": [
    "On va se baser sur le script python que vous avez développé dans un précédent TD, mais dans une version un peu modifiée. Les commentaires ont étés supprimés, le code a été compacté et les fonctions graphiques supprimées (ainsi que l’import de matplotlib). J’ai aussi retiré la fonction principale, cette dernière n’a plus d’intérêt. Avec ces modifications notre fonction est maintenant prête à être importée comme une bibliothèque externe."
   ]
  },
  {
   "cell_type": "markdown",
   "metadata": {},
   "source": [
    "------"
   ]
  },
  {
   "cell_type": "markdown",
   "metadata": {},
   "source": [
    "### Mise en place (R)"
   ]
  },
  {
   "cell_type": "markdown",
   "metadata": {},
   "source": [
    "On commence par installer le package *reticulate* qui va nous permettre d’interface R et python."
   ]
  },
  {
   "cell_type": "markdown",
   "metadata": {},
   "source": [
    "```R\n",
    "install.packages(\"reticulate\",repos=\"https://cloud.r-project.org\")\n",
    "```"
   ]
  },
  {
   "cell_type": "markdown",
   "metadata": {},
   "source": [
    "Puis, comme avec toutes les bibliothèques R, on charge le package avec la commande **library.**"
   ]
  },
  {
   "cell_type": "markdown",
   "metadata": {},
   "source": [
    "```R\n",
    "library(reticulate)\n",
    "```"
   ]
  },
  {
   "cell_type": "markdown",
   "metadata": {},
   "source": [
    "Enfin on définit le répertoire de travail (n’oubliez pas de modifier le chemin en fonction de l’emplacement de votre fichier). Le fichier contenant la nouvelle version des *k-means* doit bien évidement se trouver dans ce dossier. La fonction **list.files()** permet d’en vérifier la présence."
   ]
  },
  {
   "cell_type": "markdown",
   "metadata": {},
   "source": [
    "```R\n",
    "# \"./TD_IGAST_MultiVar\" est le chemin du répertoire de travail\n",
    "setwd(\"./TD_IGAST_MultiVar\")\n",
    "list.files()\n",
    "```"
   ]
  },
  {
   "cell_type": "markdown",
   "metadata": {},
   "source": [
    "On peut désormais importer le module python avec la fonction *import_from_path()* du package *reticulate.*"
   ]
  },
  {
   "cell_type": "markdown",
   "metadata": {},
   "source": [
    "```R\n",
    "# \"kmeans\" est le nom du fichier python (sans l'extension)\n",
    "# getwd() renvoie le chemin du répertoire de travail\n",
    "m_kmeans <- import_from_path(\"kmeans\", getwd())\n",
    "```"
   ]
  },
  {
   "cell_type": "markdown",
   "metadata": {},
   "source": [
    "Cette fonction crée un environnement (que j’appelle *m_kmeans* pour éviter de surcharger la fonction *kmeans* de R) qui contient toutes les fonctions contenues dans le fichier python importé. On peut alors utiliser les fonctions écrites en python de la manière suivante:"
   ]
  },
  {
   "cell_type": "markdown",
   "metadata": {},
   "source": [
    "```R\n",
    "m_kmeans$maFonction()\n",
    "```"
   ]
  },
  {
   "cell_type": "markdown",
   "metadata": {},
   "source": [
    "Le système n’est pas encore totalement fonctionnel car nous devons veiller à ce que les types des objets transmis par R correspondent à ceux attendus par python.\n",
    "\n",
    "Le tableau ci-dessous, extrait de la [documentation](https://cran.r-project.org/web/packages/reticulate/vignettes/introduction.html#type-conversions), décrit les équivalences de types dans chacun des deux langages."
   ]
  },
  {
   "cell_type": "markdown",
   "metadata": {},
   "source": [
    "R |\tPython | Exemples\n",
    ":-|:-------|:---------\n",
    "Single-element vector |\tScalar |\t1, 1L, TRUE, \"foo\" \n",
    "Multi-element vector | List | c(1.0, 2.0, 3.0), c(1L, 2L, 3L) \n",
    "List of multiple types | Tuple | list(1L, TRUE, \"foo\") \n",
    "Named list | Dict |\tlist(a = 1L, b = 2.0), dict(x = x_data) \n",
    "Matrix/Array | NumPy ndarray | matrix(c(1,2,3,4), nrow = 2, ncol = 2)\n",
    "Function | Python function | function(x) x + 1 \n",
    "NULL, TRUE, FALSE | None, True, False | NULL, TRUE, FALSE "
   ]
  },
  {
   "cell_type": "markdown",
   "metadata": {},
   "source": [
    "Pour finir voici une nouvelle fonction en R qui sera chargée de vérifier que les types correspondent bien à ce qui est attendu et qui se chargera d'appeler la fonction écrite en python."
   ]
  },
  {
   "cell_type": "markdown",
   "metadata": {},
   "source": [
    "```R\n",
    "f_kmeans <- function(data, nclass, p=2){\n",
    "\n",
    "    # On vérifie que le nombre de classes soit\n",
    "    # un entier (R à tendance à tout définir comme\n",
    "    # des flotants) et on caste le cas échéant\n",
    "    if (!is.integer(nclass)){\n",
    "        nclass <- as.integer(nclass)\n",
    "    }\n",
    "     \n",
    "    # On veut que data soit une matrice\n",
    "    if (!is.matrix(data)){\n",
    "        # Exception, la fonction se stope\n",
    "        # et renvoie un message d'erreur\n",
    "        stop(\"data must be a matrix\")\n",
    "    }\n",
    "\n",
    "    # Identique au premier test mais pour p\n",
    "    if (!is.integer(p)){\n",
    "        p <- as.integer(p)\n",
    "    }\n",
    "    \n",
    "    # Calcul des minimumns et maximums\n",
    "    # Comme data est de type *matrix* on peut\n",
    "    # calculer directement le minimum et le maximum\n",
    "    # de toute la matrice\n",
    "    absolute_min = min(data)\n",
    "    absolute_max = max(max)\n",
    "    \n",
    "    # Calcul d'epsilon\n",
    "    epsilon = 10**(-10.0) * (absolute_max - absolute_min)\n",
    "    \n",
    "    # Appel de la fonction python\n",
    "    out <- m_kmeans$kmeans(u_data, nclass, p, epsilon)\n",
    "    \n",
    "    return(out)\n",
    "}\n",
    "```"
   ]
  },
  {
   "cell_type": "markdown",
   "metadata": {},
   "source": [
    "-----"
   ]
  },
  {
   "cell_type": "markdown",
   "metadata": {},
   "source": [
    "### Utilisation"
   ]
  },
  {
   "cell_type": "markdown",
   "metadata": {},
   "source": [
    "On peut désormais utiliser la fonction **f_kmeans()** en lui passant comme arguments une matrice de données, un nombre de classes et un exposant (valeur facultative)."
   ]
  },
  {
   "cell_type": "markdown",
   "metadata": {},
   "source": [
    "```R\n",
    "km <- kmeans(data, 5)\n",
    "```"
   ]
  },
  {
   "cell_type": "markdown",
   "metadata": {},
   "source": [
    "----"
   ]
  },
  {
   "cell_type": "markdown",
   "metadata": {},
   "source": [
    "### Plus d'informations"
   ]
  },
  {
   "cell_type": "markdown",
   "metadata": {},
   "source": [
    "Si vous voulez plus d'informations sur le package *reticulate* vous pouvez consulter les liens suivants:\n",
    "* La page du package sur le [CRAN](https://cran.r-project.org/web/packages/reticulate/index.html)\n",
    "* La [documentation](https://cran.r-project.org/web/packages/reticulate/reticulate.pdf) du package\n",
    "* Ainsi que la vignette [d'introduction](https://cran.r-project.org/web/packages/reticulate/vignettes/introduction.html)"
   ]
  }
 ],
 "metadata": {
  "kernelspec": {
   "display_name": "Python 3",
   "language": "python",
   "name": "python3"
  },
  "language_info": {
   "codemirror_mode": {
    "name": "ipython",
    "version": 3
   },
   "file_extension": ".py",
   "mimetype": "text/x-python",
   "name": "python",
   "nbconvert_exporter": "python",
   "pygments_lexer": "ipython3",
   "version": "3.6.3"
  }
 },
 "nbformat": 4,
 "nbformat_minor": 2
}
